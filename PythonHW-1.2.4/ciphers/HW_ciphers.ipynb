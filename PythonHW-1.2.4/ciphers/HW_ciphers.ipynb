{
 "cells": [
  {
   "cell_type": "markdown",
   "metadata": {},
   "source": [
    "# Fun with Ciphers\n",
    "A cipher is an algorithm for encoding or decoding data. In these problems, we'll implement two very simple ciphers: the Caesar cipher and the keyword cipher. We'll use each of these to encrypt and decrypt strings."
   ]
  },
  {
   "cell_type": "markdown",
   "metadata": {},
   "source": [
    "## Caesar Cipher\n",
    "A Caesar cipher is a cryptographic function that takes as input a plaintext string and outputs a ciphertext string that is the encoding of the input. Specifically, the Caesar cipher shifts each letter of the alphabet by some fixed amount, wrapping at the end of the alphabet and ignoring whitespace. For example, the string\n",
    "\n",
    "```\n",
    "CogWorks is fun\n",
    "```\n",
    "\n",
    "encoded using a Caesar cipher with shift 3 becomes\n",
    "\n",
    "```\n",
    "FrjZrunv lv ixq\n",
    "```\n",
    "\n",
    "Let's break down how this works. We'll order the alphabet so that lowercase letters come before capital letters. This gives us:\n",
    "\n",
    "```\n",
    "abcdefghijklmnopqrstuvwxyzABCDEFGHIJKLMNOPQRSTUVWXYZ\n",
    "```\n",
    "\n",
    "The Caesar cipher will shift each letter by some amount. In our case, we chose to shift by 3 characters. This means we'll map `a` to `d`, `b` to `e`, ..., `w` to `z`, `x` to `A`, ... `W` to `Z`, `X` to `a`, `Y` to `b`, and `Z` to `c`. We can create a mapping just like this:\n",
    "\n",
    "```\n",
    "abcdefghijklmnopqrstuvwxyzABCDEFGHIJKLMNOPQRSTUVWXYZ\n",
    "defghijklmnopqrstuvwxyzABCDEFGHIJKLMNOPQRSTUVWXYZabc\n",
    "```\n",
    "\n",
    "This is essentially what the Caesar cipher is doing. Now if we want to encode our string, we see that `C` maps to `F`, `o` maps to `r`, and so on.\n",
    "\n",
    "Reversing the process to decode a string is quite straightforward. If we receive the encrypted string\n",
    "\n",
    "```\n",
    "Wlys yvjrz\n",
    "```\n",
    "\n",
    "and we know that it was encoded using a Caesar cipher with shift 7, we can easily create our reverse substitution alphabet:\n",
    "\n",
    "```\n",
    "hijklmnopqrstuvwxyzABCDEFGHIJKLMNOPQRSTUVWXYZabcdefg\n",
    "abcdefghijklmnopqrstuvwxyzABCDEFGHIJKLMNOPQRSTUVWXYZ\n",
    "```\n",
    "\n",
    "and decode the message:\n",
    "\n",
    "```\n",
    "Perl rocks\n",
    "```\n",
    "\n",
    "Fun fact: The ROT13 algorithm is a famous special case of the Caesar cipher. It assumes all letters are the same case. What's special about ROT13 is that it is its own inverse: you apply the exact same function to both encode and decode your string.\n",
    "\n",
    "#### Breaking the Caesar Cipher\n",
    "While not very secure, the Caesar cipher can be effective as a very weak form of encryption. Note that to break the encryption, we can simply try shift amounts from 1 through 25 and see which one comes out as correct English. This is a *brute-force* solution."
   ]
  },
  {
   "cell_type": "markdown",
   "metadata": {},
   "source": [
    "### Problem 1\n",
    "Write a function that takes as input a string and a shift amount and returns the string encoded using a Caesar cipher with the specified shift. Your function should:\n",
    "\n",
    "- Only replace letters; leaving numbers, punctuation, and whitespace alone\n",
    "- Order the alphabet from lowercase to uppercase, as above (ab...zAB...Z)"
   ]
  },
  {
   "cell_type": "code",
   "execution_count": null,
   "metadata": {
    "collapsed": true
   },
   "outputs": [],
   "source": [
    "def encode_caesar(string, shift_amt):\n",
    "    ''' Encodes the specified `string` using a Caesar cipher with shift `shift_amt`\n",
    "    \n",
    "        Parameters\n",
    "        ----------\n",
    "        string : str\n",
    "            The string to encode.\n",
    "        \n",
    "        shift_amt : int\n",
    "            How much to shift the alphabet by.\n",
    "        \n",
    "        Returns\n",
    "        -------\n",
    "        str\n",
    "            The encoded string.\n",
    "       '''\n",
    "    # student code goes here"
   ]
  },
  {
   "cell_type": "code",
   "execution_count": null,
   "metadata": {
    "collapsed": true
   },
   "outputs": [],
   "source": [
    "from bwsi_grader.python.ciphers import grade_cesar_cipher\n",
    "grade_cesar_cipher(encode_caesar)"
   ]
  },
  {
   "cell_type": "markdown",
   "metadata": {},
   "source": [
    "## Keyword Cipher\n",
    "A keyword cipher (or substitution cipher) is another cryptographic function. Rather than shift the alphabet by some fixed amount like the Caesar cipher, the Keyword cipher shifts the alphabet based on a keyword or phrase. Let's illustrate with an example.\n",
    "\n",
    "Suppose our keyphrase is\n",
    "\n",
    "```\n",
    "beaverworks is cool\n",
    "```\n",
    "\n",
    "and we want to encode the string\n",
    "\n",
    "```\n",
    "python rules\n",
    "```\n",
    "\n",
    "Like the Caesar cipher, we'll build a substitution alphabet. We'll go through our keyphrase and record the **unique** letters, in order, then append all the rest of the alphabet that wasn't in the keyphrase. For simplicity, we'll only use lowercase letters for this cipher.\n",
    "\n",
    "Going through the keyphrase we pull out\n",
    "\n",
    "```\n",
    "beavrwoksicl\n",
    "```\n",
    "\n",
    "Note that each letter is unique, and is in the order we saw it in the keyphrase. The second 'e' we see in 'beaverworks' is simply ignored. Now all we have to do is go through the alphabet and append all the letters that we don't already have. This gives us the following mapping:\n",
    "\n",
    "```\n",
    "abcdefghijklmnopqrstuvwxyz\n",
    "beavrwoksicldfghjmnpqtuxyz\n",
    "```\n",
    "\n",
    "Now we can make a straightforward substitution for each letter in our string, `'python rules'`, and get the encoded string\n",
    "\n",
    "```\n",
    "hypkgf mqlrn\n",
    "```\n",
    "\n",
    "Taking another example, if we receive the encoded string\n",
    "\n",
    "```\n",
    "kqbhj khsjhp kpjige\n",
    "```\n",
    "\n",
    "and we know that the keyword used to create the cipher was\n",
    "\n",
    "```\n",
    "massachusetts institute of technology\n",
    "```\n",
    "\n",
    "then we can easily assemble the substitution alphabet\n",
    "\n",
    "```\n",
    "abcdefghijklmnopqrstuvwxyz\n",
    "maschuetinoflgybdjkpqrvwxz\n",
    "```\n",
    "\n",
    "and decode the string\n",
    "\n",
    "```\n",
    "super secret string\n",
    "```\n",
    "\n",
    "#### Breaking the Keyword Cipher\n",
    "You might be thinking that this is more difficult to decrypt than our Caesar cipher if we don't know the keyword, and you'd be right. With the Caesar cipher, all we had to do to break it was try 25 different shifts and see which one came out in sensible English.\n",
    "\n",
    "With the keyword cipher, there are `403,291,461,126,605,635,584,000,000` permutations of the alphabet. And this is with only lowercase letters! Even if we could check 2 billion permutations each second, it would take more than 6 billion years to try all the possible permutations here.\n",
    "\n",
    "Practically, this is where things like frequency analysis come into play, where if we have enough encoded text we can look at the frequency of each letter and try to match these to known frequencies of English. For example, the letter 'e' is very common and if the frequency of 'q' in the encoded text is close to that known frequency, then 'q' probably maps to 'e'. Of course, there are many sophisticated techniques in cryptanalysis worth exploring."
   ]
  },
  {
   "cell_type": "markdown",
   "metadata": {},
   "source": [
    "### Problem 2\n",
    "Write a function that takes as input a string and a keyword (or phrase) and returns the string encoded using a Keyword (substitution) cipher. Your function should:\n",
    "\n",
    "- Only replace letters; leaving numbers, punctuation, and whitespace alone\n",
    "- Ignore case, using only lowercase letters\n",
    "\n",
    "Assume that `keyword` will always be a non-empty string."
   ]
  },
  {
   "cell_type": "code",
   "execution_count": null,
   "metadata": {
    "collapsed": true
   },
   "outputs": [],
   "source": [
    "def encode_keyword(string, keyword):\n",
    "    ''' Encodes the specified `string` using a Keyword cipher with keyword `keyword`.\n",
    "    \n",
    "        Parameters\n",
    "        ----------\n",
    "        string : str\n",
    "            The string to encode.\n",
    "        \n",
    "        keyword : str\n",
    "            The keyword to use in the substitution alphabet.\n",
    "        \n",
    "        Returns\n",
    "        -------\n",
    "        str\n",
    "            The encoded string.\n",
    "       '''\n",
    "    # student code goes here"
   ]
  },
  {
   "cell_type": "code",
   "execution_count": null,
   "metadata": {
    "collapsed": true
   },
   "outputs": [],
   "source": [
    "from bwsi_grader.python.ciphers import grade_keyword_cipher\n",
    "grade_keyword_cipher(encode_keyword)"
   ]
  }
 ],
 "metadata": {
  "kernelspec": {
   "display_name": "Python 3",
   "language": "python",
   "name": "python3"
  },
  "language_info": {
   "codemirror_mode": {
    "name": "ipython",
    "version": 3
   },
   "file_extension": ".py",
   "mimetype": "text/x-python",
   "name": "python",
   "nbconvert_exporter": "python",
   "pygments_lexer": "ipython3",
   "version": "3.7.2"
  }
 },
 "nbformat": 4,
 "nbformat_minor": 2
}
