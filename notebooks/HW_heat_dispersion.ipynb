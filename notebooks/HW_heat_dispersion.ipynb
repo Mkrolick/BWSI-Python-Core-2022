{
 "cells": [
  {
   "cell_type": "markdown",
   "metadata": {},
   "source": [
    "# Simulating The Spread of Heat Through a Material\n",
    "> Written by David Mascharka and Ryan Soklaski\n",
    "\n",
    "## Understanding the Heat Propagation\n",
    "In this problem, we will learn about a simple algorithm for numerically simulating the spread of heat through a material. We will want to use vectorization to write an efficient algorithm.\n",
    "\n",
    "Imagine that we have a rectangular piece of steel. For now, let's treat this piece of steel as a 5x5 grid - we are only able to measure the average temperature of each of these 25 grid regions. Let's assume that steel starts off at a uniform 0-degrees. Thus, our temperature readout for each of its grid positions is:\n",
    "\n",
    "```\n",
    "                                0     0     0     0     0 \n",
    "                                0     0     0     0     0 \n",
    "                                0     0     0     0     0 \n",
    "                                0     0     0     0     0 \n",
    "                                0     0     0     0     0 \n",
    "```\n",
    "\n",
    "Now, we will clamp hot contacts, which are always at a constant 100-degrees, along the outer edges of the steel. Upon clamping these contacts, our temperature readout at time-0 becomes:\n",
    "\n",
    "```\n",
    "                               100   100   100   100   100\n",
    "                               100    0     0     0    100\n",
    "                               100    0     0     0    100\n",
    "                               100    0     0     0    100\n",
    "                               100   100   100   100   100\n",
    "```\n",
    "\n",
    "We will adopt the same indexing scheme as a 2D NumPy array. That is, element (i,j) of this grid is row-i, column-j in the grid. The top-left corner is located at (0, 0), and has a temperature of 100. \n",
    "\n",
    "Moving forward, we want to describe, numerically, how the heat from the contacts will spread through the material as time carries on. The heat equation is a partial differential equation that describes the flow of heat through space and time. In the following equation, the function $u(x, y, t)$ describes how much heat resides at the location $(x, y)$ at time $t$:\n",
    "\n",
    "\\begin{equation}\n",
    "\\frac{\\partial u}{\\partial t} - \\alpha \\left(\\frac{\\partial^{2} u}{\\partial x^{2}} + \\frac{\\partial^{2} u}{\\partial y^{2}} \\right)= 0\n",
    "\\end{equation}\n",
    "\n",
    "Do not worry if you have no clue what a partial differential equation is! You do not need to know anything about the heat equation, we are simply providing some background here. \n",
    "\n",
    "What this equation ultimately says is that heat will spread such that a point will take on the average amount of heat among its neighboring points. Numerically, we can write this out as:\n",
    "\n",
    "\\begin{equation}\n",
    "u^{(t)}_{ij} = \\frac{u^{(t-1)}_{i+1,j} + u^{(t-1)}_{i-1,j} + u^{(t-1)}_{i,j+1} + u^{(t-1)}_{i,j-1}}{4}\n",
    "\\end{equation}\n",
    "\n",
    "That is, $u^{(t)}_{ij}$ is the heat at grid-location $(i, j)$ at time-step $t$. It's value is given by the average of the heat of all four of its neighboring grid positions from time-step $t-1$. See that the right side of the equation averages the heat from above, below, left-of, and right-of $(i, j)$, at time-step $t-1$. This means of evolving the heat through our gridded material is known as the *finite difference method*.\n",
    "\n",
    "Let's using the finite difference method to figure out what the distribution of heat looks like throughout our steel square at time-step 1. Keep in mind that we need not update any of the outer-edges of the steel - those positions are held at a fixed heat. We'll start at the upper-left corner and get\n",
    "\n",
    "\\begin{equation}\n",
    "u^{t=1}_{1,1} = \\frac{0 + 100 + 0 + 100}{4} = 50\\\\\n",
    "u^{t=1}_{1,2} = \\frac{0 + 100 + 0 + 0}{4} = 25\\\\\n",
    "\\end{equation}\n",
    "\n",
    "and so on, yielding the heat distribution at timestep-1 of:\n",
    "```\n",
    "                                100   100   100   100   100\n",
    "                                100    50    25    50   100\n",
    "                                100    25     0    25   100\n",
    "                                100    50    25    50   100\n",
    "                                100   100   100   100   100\n",
    "```\n",
    "\n",
    "Repeating this process again will produce the heat distribution at timestep-2, and so on. After many iterations, we see the entire region becomes 100 degrees. This is because the heat from the edges flows inward until everything is the same temperature. This stabilized distribution of heat is known as the *steady state*. If we change the boundary conditions, i.e. change what we clamp to the edges of our steel, we will observe different steady states.\n"
   ]
  },
  {
   "cell_type": "markdown",
   "metadata": {},
   "source": [
    "## Problem 1: A Simple Implementation of Finite Differences\n",
    "Write a Python function that takes in a 2-dimensional numpy-array containing heat-values, and uses the finite difference method to produce the heat distribution for that material at the next time-step. Do this using simple for-loops to iterate over the values of the array.\n",
    "\n",
    "Assume that the boundary-values of the array are fixed, so you need not update them. However, do *not* assume that the boundary values are all the same as one another, as they were in the preceding example.\n",
    "\n",
    "Also, be careful not to change the content of the array that your function is given. You need to use the values in that array, unchanged, to compute the new heat distribution. Consider making use of `np.copy` to create a copy of the input array (so that your new array will have the appropriate boundary values)."
   ]
  },
  {
   "cell_type": "code",
   "execution_count": 32,
   "metadata": {},
   "outputs": [],
   "source": [
    "# make sure to execute this cell so that your function is defined\n",
    "# you must re-run this cell any time you make a change to this function\n",
    "import numpy as np\n",
    "def evolve_heat_slow(u):\n",
    "    \"\"\" Given a 2D array of heat-values (at fixed boundary), produces\n",
    "        the new heat distribution after one iteration of the finite \n",
    "        difference method.\n",
    "        \n",
    "        Parameters\n",
    "        ----------\n",
    "        u : numpy.ndarray shape=(M, N)\n",
    "            An MxN array of heat values at time-step t-1.\n",
    "            (M and N are both at least 2)\n",
    "        \n",
    "        Returns\n",
    "        -------\n",
    "        numpy.ndarray, shape=(M, N)\n",
    "            An MxN array of heat values at time-step t.\n",
    "        \"\"\"       \n",
    "    # student code goes here\n",
    "    u_new = np.zeros_like(u)\n",
    "    (row_num, col_num) = u.shape\n",
    "\n",
    "    for row in range(1, row_num - 1):\n",
    "        for col in range(1, col_num - 1):\n",
    "            top = u[row][col + 1]\n",
    "            bottom = u[row][col - 1]\n",
    "            left = u[row - 1][col]\n",
    "            right = u[row + 1][col]\n",
    "\n",
    "            u_new[row][col] = (top + bottom + left + right) / 4\n",
    "\n",
    "\n",
    "    for col in range(col_num):\n",
    "        u_new[0][col] = u[0][col]\n",
    "        u_new[row_num - 1][col] = u[row_num - 1][col]\n",
    "\n",
    "    for row in range(row_num):\n",
    "        u_new[row][0] = u[row][0]\n",
    "        u_new[row][col_num - 1] = u[row][col_num - 1]\n",
    "\n",
    "\n",
    "    return u_new\n"
   ]
  },
  {
   "cell_type": "code",
   "execution_count": 33,
   "metadata": {},
   "outputs": [
    {
     "name": "stdout",
     "output_type": "stream",
     "text": [
      "\n",
      "============================== ALL TESTS PASSED! ===============================\n",
      "Your submission code: bw4c328516b4c813fe5f8394f4f6b83799336f22f27044cb26efb23cf8\n",
      "================================================================================\n",
      "\n"
     ]
    }
   ],
   "source": [
    "from bwsi_grader.python.heat_dispersion import grader\n",
    "grader(evolve_heat_slow, grade_ver=1)"
   ]
  },
  {
   "cell_type": "markdown",
   "metadata": {},
   "source": [
    "Armed with this function, we will find the steady state of a more finely-gridded sheet of steel, with a less trivial set of boundary heat-values.\n",
    "\n",
    "We will create an 80x96 grid with the following boundary conditions:\n",
    "\n",
    "- Along the top row, we linearly increase the heat from 0 to 300 degrees from left to right\n",
    "- Along the bottom row, we fade from 0 to 80 degrees at the middle and back to 0 on the right\n",
    "- Along the left side, we linearly increase from 0 degrees at the bottom to 90 at the top (note that the very corner point is 0 from the 0 -> 300 continuum above)\n",
    "- Along the right side, we linearly increase the heat from 0 to 300 degrees from bottom to top"
   ]
  },
  {
   "cell_type": "code",
   "execution_count": 96,
   "metadata": {},
   "outputs": [],
   "source": [
    "# creating the 80x96-grid sheet with the non-trivial boundary conditions\n",
    "# simply execute this cell; you need not change anything.\n",
    "\n",
    "import numpy as np\n",
    "# discretize our rectangle into an 80x96 grid\n",
    "rows = 80     \n",
    "columns = 96\n",
    "u = np.zeros((rows, columns))\n",
    "\n",
    "# set up the boundary conditions\n",
    "u[0] = np.linspace(0, 300, columns)                # top row runs 0 -> 300\n",
    "u[1:,0] = np.linspace(90, 0, rows-1)               # left side goes 0 -> 90 bottom to top\n",
    "u[-1,:columns//2] = np.linspace(0, 80, columns//2) # 0 (left) to 80 (middle) along the bottom\n",
    "u[-1,columns//2:] = np.linspace(80, 0, columns//2) # 80 (middle) to 0 (left) along the bottom\n",
    "u[:,-1] = np.linspace(300,0,rows)                  # 0 -> 300 bottom to top along the right"
   ]
  },
  {
   "cell_type": "markdown",
   "metadata": {},
   "source": [
    "Let's plot the initial condition for this steel sheet. You should see a \"hot spot\" in the top-right corner, and varying amounts of heat elsewhere on the boundary. Check that this corresponds to the boundary conditions that we imposed."
   ]
  },
  {
   "cell_type": "code",
   "execution_count": 98,
   "metadata": {},
   "outputs": [
    {
     "data": {
      "image/png": "[encoded data removed]",
      "text/plain": [
       "<Figure size 432x288 with 1 Axes>"
      ]
     },
     "metadata": {
      "needs_background": "light"
     },
     "output_type": "display_data"
    }
   ],
   "source": [
    "# execute this cell\n",
    "\n",
    "# matplotlib is a Python library used for visualizing data\n",
    "import matplotlib.pyplot as plt\n",
    "from matplotlib.animation import FuncAnimation\n",
    "%matplotlib inline\n",
    "\n",
    "fig, ax = plt.subplots()\n",
    "ax.imshow(u, cmap='hot');"
   ]
  },
  {
   "cell_type": "markdown",
   "metadata": {},
   "source": [
    "Now, we will make an animation of the heat spreading through this material. However, our current implementation is too slow - let's time the amount of time required to evolve the heat in the material for 5000 iterations. This should take 20 sec - 1 minute."
   ]
  },
  {
   "cell_type": "code",
   "execution_count": 99,
   "metadata": {},
   "outputs": [
    {
     "name": "stdout",
     "output_type": "stream",
     "text": [
      "`evolve_heat_slow` took 50.0 seconds to complete 5000 iterations\n"
     ]
    }
   ],
   "source": [
    "import time\n",
    "slow = u.copy()\n",
    "start = time.time()\n",
    "for _ in range(5000): # perform 5000 iterations to reach a steady state\n",
    "    slow = evolve_heat_slow(slow)\n",
    "t = round(time.time() - start, 1)\n",
    "print(\"`evolve_heat_slow` took {} seconds to complete 5000 iterations\".format(t))"
   ]
  },
  {
   "cell_type": "markdown",
   "metadata": {},
   "source": [
    "# Problem 2: A Vectorized Version of Finite Differences\n",
    "Use NumPy array arithmetic to vectorize the finite-difference method that you implemented in problem #1. Your code should not utilize any for-loops."
   ]
  },
  {
   "cell_type": "code",
   "execution_count": 140,
   "metadata": {},
   "outputs": [],
   "source": [
    "def evolve_heat_fast(u):\n",
    "    \"\"\" Given a 2D array of heat-values (at fixed boundary), produces\n",
    "        the new heat distribution after one iteration of the finite \n",
    "        difference method.\n",
    "        \n",
    "        Parameters\n",
    "        ----------\n",
    "        u : numpy.ndarray shape=(M, N)\n",
    "            An MxN array of heat values at time-step t-1.\n",
    "            (M and N are both at least 2)\n",
    "        \n",
    "        Returns\n",
    "        -------\n",
    "        numpy.ndarray, shape=(M, N)\n",
    "            An MxN array of heat values at time-step t.\n",
    "        \"\"\"       \n",
    "    # use a vectorized implementation of the finite difference method\n",
    "    # student code goes here\n",
    "    u_new = np.copy(u)\n",
    "    \n",
    "    (row_num, col_num) = u.shape\n",
    "\n",
    "    #take top sub array\n",
    "    top = u[2:row_num, 1:col_num - 1]\n",
    "    \n",
    "    #take bottom sub array\n",
    "    bottom = u[0:row_num - 2, 1:col_num - 1]\n",
    "    #take left sub array\n",
    "    left = u[1:row_num - 1, 2:col_num]\n",
    "    #take right sub array\n",
    "    right = u[1:row_num - 1, 0:col_num - 2]\n",
    "    \n",
    "    \n",
    "\n",
    "    \"\"\"\n",
    "    [[100., 100., 100., 100., 100.],\n",
    "     [100.,   0.,   0.,   0., 100.],\n",
    "     [100.,   0.,   0.,   0., 100.],\n",
    "      [100.,   0.,   0.,   0., 100.],\n",
    "     [100., 100., 100., 100., 100.]]))\n",
    "    \n",
    "    \"\"\"\n",
    "    \n",
    "    \n",
    "    new_mini = np.copy((top + bottom + left + right) / 4)\n",
    "    u_new[1:row_num-1, 1:col_num - 1] = new_mini\n",
    "\n",
    "    return u_new\n",
    "\n",
    "    \n",
    "\n",
    "    "
   ]
  },
  {
   "cell_type": "code",
   "execution_count": 141,
   "metadata": {},
   "outputs": [
    {
     "name": "stdout",
     "output_type": "stream",
     "text": [
      "\n",
      "============================== ALL TESTS PASSED! ===============================\n",
      "Your submission code: bw95ca3a7cfec977141125d15af9059617240297927b952f8dfae97d2a\n",
      "================================================================================\n",
      "\n"
     ]
    }
   ],
   "source": [
    "from bwsi_grader.python.heat_dispersion import grader\n",
    "grader(evolve_heat_fast, grade_ver=2)"
   ]
  },
  {
   "cell_type": "markdown",
   "metadata": {},
   "source": [
    "Now let's use our vectorized code to perform 5000 iterations to evolve the heat in our system. This should be nearly 100-times faster than our original implementation."
   ]
  },
  {
   "cell_type": "code",
   "execution_count": null,
   "metadata": {},
   "outputs": [],
   "source": [
    "# execute this cell\n",
    "\n",
    "import time\n",
    "fast = u.copy()\n",
    "start = time.time()\n",
    "all_frames = []\n",
    "for _ in range(5000):\n",
    "    all_frames.append(fast.copy())\n",
    "    fast = evolve_heat_fast(fast)\n",
    "t = round(time.time() - start, 1)\n",
    "print(\"`evolve_heat_fast` took {} seconds to complete 5000 iterations\".format(t))"
   ]
  },
  {
   "cell_type": "markdown",
   "metadata": {},
   "source": [
    "Plotting the distribution of heat after 5000 time-steps of evolution. "
   ]
  },
  {
   "cell_type": "code",
   "execution_count": null,
   "metadata": {},
   "outputs": [],
   "source": [
    "# execute this cell\n",
    "\n",
    "fig, ax = plt.subplots()\n",
    "ax.imshow(fast, cmap='hot');"
   ]
  },
  {
   "cell_type": "markdown",
   "metadata": {},
   "source": [
    "Even better, let's plot an animation of the heat spreading through the steel sheet! The animation will loop back to the beginning after playing through."
   ]
  },
  {
   "cell_type": "code",
   "execution_count": null,
   "metadata": {},
   "outputs": [],
   "source": [
    "# execute this cell\n",
    "\n",
    "fig = plt.figure()\n",
    "t = u.copy()\n",
    "im = plt.imshow(t, animated=True, cmap='hot')\n",
    "\n",
    "def updatefig(*args):\n",
    "    im.set_array(all_frames[args[0]])\n",
    "    return im,\n",
    "\n",
    "ani = FuncAnimation(fig, updatefig, range(5000), interval=1, blit=True, repeat=True,\n",
    "                    repeat_delay=1000)\n",
    "plt.show()"
   ]
  },
  {
   "cell_type": "markdown",
   "metadata": {},
   "source": [
    "Try creating your own boundary conditions for the temperature distribution on this steel sheet. Reuse the code from above to animate how the heat spreads through it. Also congratulate yourself for numerically solving a fixed-boundary partial differential equation :)"
   ]
  }
 ],
 "metadata": {
  "interpreter": {
   "hash": "dbb489941d5c6dc10198db04d06fd0011363ffba49959fe898ac307facd0fa0f"
  },
  "kernelspec": {
   "display_name": "Python 3.10.2 ('env': venv)",
   "language": "python",
   "name": "python3"
  },
  "language_info": {
   "codemirror_mode": {
    "name": "ipython",
    "version": 3
   },
   "file_extension": ".py",
   "mimetype": "text/x-python",
   "name": "python",
   "nbconvert_exporter": "python",
   "pygments_lexer": "ipython3",
   "version": "3.10.2"
  },
  "name": "Untitled.ipynb"
 },
 "nbformat": 4,
 "nbformat_minor": 2
}
