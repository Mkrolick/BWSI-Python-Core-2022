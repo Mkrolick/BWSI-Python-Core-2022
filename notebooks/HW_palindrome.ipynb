{
 "cells": [
  {
   "cell_type": "markdown",
   "metadata": {},
   "source": [
    "# Is it a palindrome?\n",
    "\n",
    "A palindrome is a word, phrase, or sequence that reads the same backward as forward, e.g., madam or nurses run.\n",
    "\n",
    "Write code that takes a string and returns `True` if that string is a palindrome. Your analysis should be case-insensitive and should disregard spaces. E.g. \"Race car\" should be considered a palindrome, despite beginning with a capitalized letter and containing a space. None of the strings will contain punctuation. Thus your function should produce the following behavior:\n",
    "\n",
    "- \"Are we not drawn onward to new era\" -> True\n",
    "- \"batman\" -> False\n",
    "\n",
    "## Required Concepts\n",
    "Basic Object Types\n",
    "- strings\n",
    "- checking equality\n",
    "\n",
    "Sequence Types\n",
    "- slicing\n",
    "\n",
    "## Examples\n",
    "```python\n",
    ">>> student_func(\"Race car\")\n",
    "True\n",
    "\n",
    ">>> student_func(\"RaCeCaR\")\n",
    "True\n",
    "\n",
    ">>> student_func(\"apple\")\n",
    "False\n",
    "```"
   ]
  },
  {
   "cell_type": "code",
   "execution_count": 115,
   "metadata": {},
   "outputs": [],
   "source": [
    "# make sure to execute this cell so that your function is defined\n",
    "# you must re-run this cell any time you make a change to this function\n",
    "\n",
    "def student_func(word):\n",
    "    word = word.replace(\" \", \"\")\n",
    "    word = word.lower()\n",
    "    length = len(word)\n",
    "    gen1 = (z for z in word[0:length//2])\n",
    "    gen2 = (y for y in word[length:length//2 - 1:-1])\n",
    "    for _ in range(length//2):    \n",
    "        if next(gen1) != next(gen2):\n",
    "            return False\n",
    "    return True\n"
   ]
  },
  {
   "cell_type": "code",
   "execution_count": 116,
   "metadata": {},
   "outputs": [
    {
     "name": "stdout",
     "output_type": "stream",
     "text": [
      "\n",
      "============================== ALL TESTS PASSED! ===============================\n",
      "Your submission code: bw5a137af434b22dce4b6c174e3de60dfdd65f7d05ed3b68f4359e8e6f\n",
      "================================================================================\n",
      "\n"
     ]
    }
   ],
   "source": [
    "# Execute this cell to grade your work\n",
    "from bwsi_grader.python.palindrome import grader\n",
    "grader(student_func)"
   ]
  }
 ],
 "metadata": {
  "kernelspec": {
   "display_name": "Python 3",
   "language": "python",
   "name": "python3"
  },
  "language_info": {
   "codemirror_mode": {
    "name": "ipython",
    "version": 3
   },
   "file_extension": ".py",
   "mimetype": "text/x-python",
   "name": "python",
   "nbconvert_exporter": "python",
   "pygments_lexer": "ipython3",
   "version": "3.9.7"
  }
 },
 "nbformat": 4,
 "nbformat_minor": 2
}
